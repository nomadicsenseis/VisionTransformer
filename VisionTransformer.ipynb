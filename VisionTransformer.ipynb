{
  "nbformat": 4,
  "nbformat_minor": 0,
  "metadata": {
    "colab": {
      "provenance": [],
      "gpuType": "T4",
      "authorship_tag": "ABX9TyM2jn/Qmkgop0AHK8DxcIkr",
      "include_colab_link": true
    },
    "kernelspec": {
      "name": "python3",
      "display_name": "Python 3"
    },
    "language_info": {
      "name": "python"
    },
    "accelerator": "GPU",
    "gpuClass": "standard",
    "widgets": {
      "application/vnd.jupyter.widget-state+json": {
        "e03bacd9f8b64adc8c9fc83259984571": {
          "model_module": "@jupyter-widgets/controls",
          "model_name": "HBoxModel",
          "model_module_version": "1.5.0",
          "state": {
            "_dom_classes": [],
            "_model_module": "@jupyter-widgets/controls",
            "_model_module_version": "1.5.0",
            "_model_name": "HBoxModel",
            "_view_count": null,
            "_view_module": "@jupyter-widgets/controls",
            "_view_module_version": "1.5.0",
            "_view_name": "HBoxView",
            "box_style": "",
            "children": [
              "IPY_MODEL_6d5b28ccae3542f69025dcba13c351c2",
              "IPY_MODEL_38d26291bd8b43f99ea2a39397d5420e",
              "IPY_MODEL_dab06a376fb64a1195c68627ce6725fb"
            ],
            "layout": "IPY_MODEL_dc99db747e914fec801aadc6e9aecfb9"
          }
        },
        "6d5b28ccae3542f69025dcba13c351c2": {
          "model_module": "@jupyter-widgets/controls",
          "model_name": "HTMLModel",
          "model_module_version": "1.5.0",
          "state": {
            "_dom_classes": [],
            "_model_module": "@jupyter-widgets/controls",
            "_model_module_version": "1.5.0",
            "_model_name": "HTMLModel",
            "_view_count": null,
            "_view_module": "@jupyter-widgets/controls",
            "_view_module_version": "1.5.0",
            "_view_name": "HTMLView",
            "description": "",
            "description_tooltip": null,
            "layout": "IPY_MODEL_b2583116d1e04bd8948a502bddbf9252",
            "placeholder": "​",
            "style": "IPY_MODEL_6d1a34f77bf24125a89567ed7cce4e3f",
            "value": "100%"
          }
        },
        "38d26291bd8b43f99ea2a39397d5420e": {
          "model_module": "@jupyter-widgets/controls",
          "model_name": "FloatProgressModel",
          "model_module_version": "1.5.0",
          "state": {
            "_dom_classes": [],
            "_model_module": "@jupyter-widgets/controls",
            "_model_module_version": "1.5.0",
            "_model_name": "FloatProgressModel",
            "_view_count": null,
            "_view_module": "@jupyter-widgets/controls",
            "_view_module_version": "1.5.0",
            "_view_name": "ProgressView",
            "bar_style": "success",
            "description": "",
            "description_tooltip": null,
            "layout": "IPY_MODEL_4e3f8528471341f5b8419788d2fc480c",
            "max": 10,
            "min": 0,
            "orientation": "horizontal",
            "style": "IPY_MODEL_844052d637a947a3b8a5eb3efeac6d99",
            "value": 10
          }
        },
        "dab06a376fb64a1195c68627ce6725fb": {
          "model_module": "@jupyter-widgets/controls",
          "model_name": "HTMLModel",
          "model_module_version": "1.5.0",
          "state": {
            "_dom_classes": [],
            "_model_module": "@jupyter-widgets/controls",
            "_model_module_version": "1.5.0",
            "_model_name": "HTMLModel",
            "_view_count": null,
            "_view_module": "@jupyter-widgets/controls",
            "_view_module_version": "1.5.0",
            "_view_name": "HTMLView",
            "description": "",
            "description_tooltip": null,
            "layout": "IPY_MODEL_21aad05056504c7588aabc6fc441215b",
            "placeholder": "​",
            "style": "IPY_MODEL_873869a2521d4be9a7d6c5f1b867f28f",
            "value": " 10/10 [01:35&lt;00:00,  9.36s/it]"
          }
        },
        "dc99db747e914fec801aadc6e9aecfb9": {
          "model_module": "@jupyter-widgets/base",
          "model_name": "LayoutModel",
          "model_module_version": "1.2.0",
          "state": {
            "_model_module": "@jupyter-widgets/base",
            "_model_module_version": "1.2.0",
            "_model_name": "LayoutModel",
            "_view_count": null,
            "_view_module": "@jupyter-widgets/base",
            "_view_module_version": "1.2.0",
            "_view_name": "LayoutView",
            "align_content": null,
            "align_items": null,
            "align_self": null,
            "border": null,
            "bottom": null,
            "display": null,
            "flex": null,
            "flex_flow": null,
            "grid_area": null,
            "grid_auto_columns": null,
            "grid_auto_flow": null,
            "grid_auto_rows": null,
            "grid_column": null,
            "grid_gap": null,
            "grid_row": null,
            "grid_template_areas": null,
            "grid_template_columns": null,
            "grid_template_rows": null,
            "height": null,
            "justify_content": null,
            "justify_items": null,
            "left": null,
            "margin": null,
            "max_height": null,
            "max_width": null,
            "min_height": null,
            "min_width": null,
            "object_fit": null,
            "object_position": null,
            "order": null,
            "overflow": null,
            "overflow_x": null,
            "overflow_y": null,
            "padding": null,
            "right": null,
            "top": null,
            "visibility": null,
            "width": null
          }
        },
        "b2583116d1e04bd8948a502bddbf9252": {
          "model_module": "@jupyter-widgets/base",
          "model_name": "LayoutModel",
          "model_module_version": "1.2.0",
          "state": {
            "_model_module": "@jupyter-widgets/base",
            "_model_module_version": "1.2.0",
            "_model_name": "LayoutModel",
            "_view_count": null,
            "_view_module": "@jupyter-widgets/base",
            "_view_module_version": "1.2.0",
            "_view_name": "LayoutView",
            "align_content": null,
            "align_items": null,
            "align_self": null,
            "border": null,
            "bottom": null,
            "display": null,
            "flex": null,
            "flex_flow": null,
            "grid_area": null,
            "grid_auto_columns": null,
            "grid_auto_flow": null,
            "grid_auto_rows": null,
            "grid_column": null,
            "grid_gap": null,
            "grid_row": null,
            "grid_template_areas": null,
            "grid_template_columns": null,
            "grid_template_rows": null,
            "height": null,
            "justify_content": null,
            "justify_items": null,
            "left": null,
            "margin": null,
            "max_height": null,
            "max_width": null,
            "min_height": null,
            "min_width": null,
            "object_fit": null,
            "object_position": null,
            "order": null,
            "overflow": null,
            "overflow_x": null,
            "overflow_y": null,
            "padding": null,
            "right": null,
            "top": null,
            "visibility": null,
            "width": null
          }
        },
        "6d1a34f77bf24125a89567ed7cce4e3f": {
          "model_module": "@jupyter-widgets/controls",
          "model_name": "DescriptionStyleModel",
          "model_module_version": "1.5.0",
          "state": {
            "_model_module": "@jupyter-widgets/controls",
            "_model_module_version": "1.5.0",
            "_model_name": "DescriptionStyleModel",
            "_view_count": null,
            "_view_module": "@jupyter-widgets/base",
            "_view_module_version": "1.2.0",
            "_view_name": "StyleView",
            "description_width": ""
          }
        },
        "4e3f8528471341f5b8419788d2fc480c": {
          "model_module": "@jupyter-widgets/base",
          "model_name": "LayoutModel",
          "model_module_version": "1.2.0",
          "state": {
            "_model_module": "@jupyter-widgets/base",
            "_model_module_version": "1.2.0",
            "_model_name": "LayoutModel",
            "_view_count": null,
            "_view_module": "@jupyter-widgets/base",
            "_view_module_version": "1.2.0",
            "_view_name": "LayoutView",
            "align_content": null,
            "align_items": null,
            "align_self": null,
            "border": null,
            "bottom": null,
            "display": null,
            "flex": null,
            "flex_flow": null,
            "grid_area": null,
            "grid_auto_columns": null,
            "grid_auto_flow": null,
            "grid_auto_rows": null,
            "grid_column": null,
            "grid_gap": null,
            "grid_row": null,
            "grid_template_areas": null,
            "grid_template_columns": null,
            "grid_template_rows": null,
            "height": null,
            "justify_content": null,
            "justify_items": null,
            "left": null,
            "margin": null,
            "max_height": null,
            "max_width": null,
            "min_height": null,
            "min_width": null,
            "object_fit": null,
            "object_position": null,
            "order": null,
            "overflow": null,
            "overflow_x": null,
            "overflow_y": null,
            "padding": null,
            "right": null,
            "top": null,
            "visibility": null,
            "width": null
          }
        },
        "844052d637a947a3b8a5eb3efeac6d99": {
          "model_module": "@jupyter-widgets/controls",
          "model_name": "ProgressStyleModel",
          "model_module_version": "1.5.0",
          "state": {
            "_model_module": "@jupyter-widgets/controls",
            "_model_module_version": "1.5.0",
            "_model_name": "ProgressStyleModel",
            "_view_count": null,
            "_view_module": "@jupyter-widgets/base",
            "_view_module_version": "1.2.0",
            "_view_name": "StyleView",
            "bar_color": null,
            "description_width": ""
          }
        },
        "21aad05056504c7588aabc6fc441215b": {
          "model_module": "@jupyter-widgets/base",
          "model_name": "LayoutModel",
          "model_module_version": "1.2.0",
          "state": {
            "_model_module": "@jupyter-widgets/base",
            "_model_module_version": "1.2.0",
            "_model_name": "LayoutModel",
            "_view_count": null,
            "_view_module": "@jupyter-widgets/base",
            "_view_module_version": "1.2.0",
            "_view_name": "LayoutView",
            "align_content": null,
            "align_items": null,
            "align_self": null,
            "border": null,
            "bottom": null,
            "display": null,
            "flex": null,
            "flex_flow": null,
            "grid_area": null,
            "grid_auto_columns": null,
            "grid_auto_flow": null,
            "grid_auto_rows": null,
            "grid_column": null,
            "grid_gap": null,
            "grid_row": null,
            "grid_template_areas": null,
            "grid_template_columns": null,
            "grid_template_rows": null,
            "height": null,
            "justify_content": null,
            "justify_items": null,
            "left": null,
            "margin": null,
            "max_height": null,
            "max_width": null,
            "min_height": null,
            "min_width": null,
            "object_fit": null,
            "object_position": null,
            "order": null,
            "overflow": null,
            "overflow_x": null,
            "overflow_y": null,
            "padding": null,
            "right": null,
            "top": null,
            "visibility": null,
            "width": null
          }
        },
        "873869a2521d4be9a7d6c5f1b867f28f": {
          "model_module": "@jupyter-widgets/controls",
          "model_name": "DescriptionStyleModel",
          "model_module_version": "1.5.0",
          "state": {
            "_model_module": "@jupyter-widgets/controls",
            "_model_module_version": "1.5.0",
            "_model_name": "DescriptionStyleModel",
            "_view_count": null,
            "_view_module": "@jupyter-widgets/base",
            "_view_module_version": "1.2.0",
            "_view_name": "StyleView",
            "description_width": ""
          }
        },
        "30ec4b2b43f14459950531a2562bd74f": {
          "model_module": "@jupyter-widgets/controls",
          "model_name": "HBoxModel",
          "model_module_version": "1.5.0",
          "state": {
            "_dom_classes": [],
            "_model_module": "@jupyter-widgets/controls",
            "_model_module_version": "1.5.0",
            "_model_name": "HBoxModel",
            "_view_count": null,
            "_view_module": "@jupyter-widgets/controls",
            "_view_module_version": "1.5.0",
            "_view_name": "HBoxView",
            "box_style": "",
            "children": [
              "IPY_MODEL_3d0e3564a77444738138e92342f35982",
              "IPY_MODEL_997ca63a595745f2b97e25a3e220f8b0",
              "IPY_MODEL_03067a126b19469f8d254df24a8b7e92"
            ],
            "layout": "IPY_MODEL_59e55bfa2f3d4899932d4b610b0379de"
          }
        },
        "3d0e3564a77444738138e92342f35982": {
          "model_module": "@jupyter-widgets/controls",
          "model_name": "HTMLModel",
          "model_module_version": "1.5.0",
          "state": {
            "_dom_classes": [],
            "_model_module": "@jupyter-widgets/controls",
            "_model_module_version": "1.5.0",
            "_model_name": "HTMLModel",
            "_view_count": null,
            "_view_module": "@jupyter-widgets/controls",
            "_view_module_version": "1.5.0",
            "_view_name": "HTMLView",
            "description": "",
            "description_tooltip": null,
            "layout": "IPY_MODEL_c5a80dc614db4287863d8e1debbe1570",
            "placeholder": "​",
            "style": "IPY_MODEL_e889d30e77904658a3473aca570e63ea",
            "value": "100%"
          }
        },
        "997ca63a595745f2b97e25a3e220f8b0": {
          "model_module": "@jupyter-widgets/controls",
          "model_name": "FloatProgressModel",
          "model_module_version": "1.5.0",
          "state": {
            "_dom_classes": [],
            "_model_module": "@jupyter-widgets/controls",
            "_model_module_version": "1.5.0",
            "_model_name": "FloatProgressModel",
            "_view_count": null,
            "_view_module": "@jupyter-widgets/controls",
            "_view_module_version": "1.5.0",
            "_view_name": "ProgressView",
            "bar_style": "success",
            "description": "",
            "description_tooltip": null,
            "layout": "IPY_MODEL_1873b3dd6436480e8d003fa66e51925e",
            "max": 10,
            "min": 0,
            "orientation": "horizontal",
            "style": "IPY_MODEL_e8045b5ecfa24c64ad9fb2037e114d0c",
            "value": 10
          }
        },
        "03067a126b19469f8d254df24a8b7e92": {
          "model_module": "@jupyter-widgets/controls",
          "model_name": "HTMLModel",
          "model_module_version": "1.5.0",
          "state": {
            "_dom_classes": [],
            "_model_module": "@jupyter-widgets/controls",
            "_model_module_version": "1.5.0",
            "_model_name": "HTMLModel",
            "_view_count": null,
            "_view_module": "@jupyter-widgets/controls",
            "_view_module_version": "1.5.0",
            "_view_name": "HTMLView",
            "description": "",
            "description_tooltip": null,
            "layout": "IPY_MODEL_146513a84e064a1d92c0b436b1fdaa25",
            "placeholder": "​",
            "style": "IPY_MODEL_52064c1b3d024bc4b35745066d37c145",
            "value": " 10/10 [00:43&lt;00:00,  4.36s/it]"
          }
        },
        "59e55bfa2f3d4899932d4b610b0379de": {
          "model_module": "@jupyter-widgets/base",
          "model_name": "LayoutModel",
          "model_module_version": "1.2.0",
          "state": {
            "_model_module": "@jupyter-widgets/base",
            "_model_module_version": "1.2.0",
            "_model_name": "LayoutModel",
            "_view_count": null,
            "_view_module": "@jupyter-widgets/base",
            "_view_module_version": "1.2.0",
            "_view_name": "LayoutView",
            "align_content": null,
            "align_items": null,
            "align_self": null,
            "border": null,
            "bottom": null,
            "display": null,
            "flex": null,
            "flex_flow": null,
            "grid_area": null,
            "grid_auto_columns": null,
            "grid_auto_flow": null,
            "grid_auto_rows": null,
            "grid_column": null,
            "grid_gap": null,
            "grid_row": null,
            "grid_template_areas": null,
            "grid_template_columns": null,
            "grid_template_rows": null,
            "height": null,
            "justify_content": null,
            "justify_items": null,
            "left": null,
            "margin": null,
            "max_height": null,
            "max_width": null,
            "min_height": null,
            "min_width": null,
            "object_fit": null,
            "object_position": null,
            "order": null,
            "overflow": null,
            "overflow_x": null,
            "overflow_y": null,
            "padding": null,
            "right": null,
            "top": null,
            "visibility": null,
            "width": null
          }
        },
        "c5a80dc614db4287863d8e1debbe1570": {
          "model_module": "@jupyter-widgets/base",
          "model_name": "LayoutModel",
          "model_module_version": "1.2.0",
          "state": {
            "_model_module": "@jupyter-widgets/base",
            "_model_module_version": "1.2.0",
            "_model_name": "LayoutModel",
            "_view_count": null,
            "_view_module": "@jupyter-widgets/base",
            "_view_module_version": "1.2.0",
            "_view_name": "LayoutView",
            "align_content": null,
            "align_items": null,
            "align_self": null,
            "border": null,
            "bottom": null,
            "display": null,
            "flex": null,
            "flex_flow": null,
            "grid_area": null,
            "grid_auto_columns": null,
            "grid_auto_flow": null,
            "grid_auto_rows": null,
            "grid_column": null,
            "grid_gap": null,
            "grid_row": null,
            "grid_template_areas": null,
            "grid_template_columns": null,
            "grid_template_rows": null,
            "height": null,
            "justify_content": null,
            "justify_items": null,
            "left": null,
            "margin": null,
            "max_height": null,
            "max_width": null,
            "min_height": null,
            "min_width": null,
            "object_fit": null,
            "object_position": null,
            "order": null,
            "overflow": null,
            "overflow_x": null,
            "overflow_y": null,
            "padding": null,
            "right": null,
            "top": null,
            "visibility": null,
            "width": null
          }
        },
        "e889d30e77904658a3473aca570e63ea": {
          "model_module": "@jupyter-widgets/controls",
          "model_name": "DescriptionStyleModel",
          "model_module_version": "1.5.0",
          "state": {
            "_model_module": "@jupyter-widgets/controls",
            "_model_module_version": "1.5.0",
            "_model_name": "DescriptionStyleModel",
            "_view_count": null,
            "_view_module": "@jupyter-widgets/base",
            "_view_module_version": "1.2.0",
            "_view_name": "StyleView",
            "description_width": ""
          }
        },
        "1873b3dd6436480e8d003fa66e51925e": {
          "model_module": "@jupyter-widgets/base",
          "model_name": "LayoutModel",
          "model_module_version": "1.2.0",
          "state": {
            "_model_module": "@jupyter-widgets/base",
            "_model_module_version": "1.2.0",
            "_model_name": "LayoutModel",
            "_view_count": null,
            "_view_module": "@jupyter-widgets/base",
            "_view_module_version": "1.2.0",
            "_view_name": "LayoutView",
            "align_content": null,
            "align_items": null,
            "align_self": null,
            "border": null,
            "bottom": null,
            "display": null,
            "flex": null,
            "flex_flow": null,
            "grid_area": null,
            "grid_auto_columns": null,
            "grid_auto_flow": null,
            "grid_auto_rows": null,
            "grid_column": null,
            "grid_gap": null,
            "grid_row": null,
            "grid_template_areas": null,
            "grid_template_columns": null,
            "grid_template_rows": null,
            "height": null,
            "justify_content": null,
            "justify_items": null,
            "left": null,
            "margin": null,
            "max_height": null,
            "max_width": null,
            "min_height": null,
            "min_width": null,
            "object_fit": null,
            "object_position": null,
            "order": null,
            "overflow": null,
            "overflow_x": null,
            "overflow_y": null,
            "padding": null,
            "right": null,
            "top": null,
            "visibility": null,
            "width": null
          }
        },
        "e8045b5ecfa24c64ad9fb2037e114d0c": {
          "model_module": "@jupyter-widgets/controls",
          "model_name": "ProgressStyleModel",
          "model_module_version": "1.5.0",
          "state": {
            "_model_module": "@jupyter-widgets/controls",
            "_model_module_version": "1.5.0",
            "_model_name": "ProgressStyleModel",
            "_view_count": null,
            "_view_module": "@jupyter-widgets/base",
            "_view_module_version": "1.2.0",
            "_view_name": "StyleView",
            "bar_color": null,
            "description_width": ""
          }
        },
        "146513a84e064a1d92c0b436b1fdaa25": {
          "model_module": "@jupyter-widgets/base",
          "model_name": "LayoutModel",
          "model_module_version": "1.2.0",
          "state": {
            "_model_module": "@jupyter-widgets/base",
            "_model_module_version": "1.2.0",
            "_model_name": "LayoutModel",
            "_view_count": null,
            "_view_module": "@jupyter-widgets/base",
            "_view_module_version": "1.2.0",
            "_view_name": "LayoutView",
            "align_content": null,
            "align_items": null,
            "align_self": null,
            "border": null,
            "bottom": null,
            "display": null,
            "flex": null,
            "flex_flow": null,
            "grid_area": null,
            "grid_auto_columns": null,
            "grid_auto_flow": null,
            "grid_auto_rows": null,
            "grid_column": null,
            "grid_gap": null,
            "grid_row": null,
            "grid_template_areas": null,
            "grid_template_columns": null,
            "grid_template_rows": null,
            "height": null,
            "justify_content": null,
            "justify_items": null,
            "left": null,
            "margin": null,
            "max_height": null,
            "max_width": null,
            "min_height": null,
            "min_width": null,
            "object_fit": null,
            "object_position": null,
            "order": null,
            "overflow": null,
            "overflow_x": null,
            "overflow_y": null,
            "padding": null,
            "right": null,
            "top": null,
            "visibility": null,
            "width": null
          }
        },
        "52064c1b3d024bc4b35745066d37c145": {
          "model_module": "@jupyter-widgets/controls",
          "model_name": "DescriptionStyleModel",
          "model_module_version": "1.5.0",
          "state": {
            "_model_module": "@jupyter-widgets/controls",
            "_model_module_version": "1.5.0",
            "_model_name": "DescriptionStyleModel",
            "_view_count": null,
            "_view_module": "@jupyter-widgets/base",
            "_view_module_version": "1.2.0",
            "_view_name": "StyleView",
            "description_width": ""
          }
        }
      }
    }
  },
  "cells": [
    {
      "cell_type": "markdown",
      "metadata": {
        "id": "view-in-github",
        "colab_type": "text"
      },
      "source": [
        "<a href=\"https://colab.research.google.com/github/nomadicsenseis/VisionTransformer/blob/main/VisionTransformer.ipynb\" target=\"_parent\"><img src=\"https://colab.research.google.com/assets/colab-badge.svg\" alt=\"Open In Colab\"/></a>"
      ]
    },
    {
      "cell_type": "markdown",
      "source": [
        "#Vision Transformer"
      ],
      "metadata": {
        "id": "YshkB1Q6UbFU"
      }
    },
    {
      "cell_type": "markdown",
      "source": [
        "As I commented on my repo https://github.com/nomadicsenseis/annoted-transformer, since their first appearenace in 2017 Transformers have taken oer the NLP world. But they were not done yet. Afer some attempts of deploying them in tandem with CNNs, Google (https://arxiv.org/abs/2010.11929) finally published a paper where they implemented them directly on the task of Computer Vision. In this work I aim to recreate what they did on that paper.\n",
        "\n",
        "As for the actual frameworks, I will go for PyTorch and AWS, more specifically I will train on a Trainnium instance using the Hugging Face's base image and the Neuron SDK; and for TensorFlow Extended (the distribute library) to train the model on a TPU in the GCP. \n",
        "\n",
        "However, since the purpose of this notebook is merely educational, I will do the trainning using Pytorch and Colab first. In further implementations I will go through trainning in different frameworks."
      ],
      "metadata": {
        "id": "7uV6m1hhWChK"
      }
    },
    {
      "cell_type": "markdown",
      "source": [
        "##Architecture\n"
      ],
      "metadata": {
        "id": "IoBLJWmkUuZa"
      }
    },
    {
      "cell_type": "markdown",
      "source": [
        "Basically, a VIT is an Encoder Transformer connected to a multilayer perceptron (1 hidden layer during trainning, and linear layer during fine tuning) that outputs a label probability. As in NLP, the transformer must input some context-free representation of some kind of token, and by the end of the trainning, it should output a context representation of each of those tokens. Now, what they did in this paper is creating a series of patches out of the original images, and they used them as tokens for the encoder. There are multiple ways of creating these patches, they mentioned that it is even possible to get them as the outputs of the hidden layers of some CNNs. What is is important though, is that the number of them must be relativeley low, in orther to keep the number of computed attentions reasonable. In particular, they just divided the image into 16 x 16 patches, and then they projected each patch to the a D-length vector through a learnable linear layer. So the initial \"positional+context free embedding\" is learned (in contrast with the original Attention is all you need where they were hard coded).\n",
        "\n",
        "But, how do they handle the trainning? In a NLP fashion, what we would do to train an encoder (like BERT) is hidding some token representation withing the sequence and make the transformer learn how to make proper representations of the rest of the tokens in order to predict it. But that is done because there is vocab that we can aim to and a loss funtion based on that vocab. How about image patches? In principle, there is no vocab of image patches, in fact they can be anything. What they do is basically introduce an extra token to the transformer with a representation of the label assigned to that image. This token will act as the hidden token that needs to be predicted, with labels acting as the vocab in an NLP-transformer. It is worth noticing though that this patch s always added in the position 0, so there is no postional embedding to learn (it doesnt belong to any position in the image)."
      ],
      "metadata": {
        "id": "tov0NQsb_vvy"
      }
    },
    {
      "cell_type": "code",
      "source": [
        "from IPython.display import Image\n",
        "Image(filename='/content/ViTransformer.png', width=600, height=350)"
      ],
      "metadata": {
        "colab": {
          "base_uri": "https://localhost:8080/",
          "height": 367
        },
        "id": "vHYcAV1a_NEZ",
        "outputId": "3f1b75be-8ad8-4396-9037-a663cad5053a"
      },
      "execution_count": 40,
      "outputs": [
        {
          "output_type": "execute_result",
          "data": {
            "image/png": "[encoded data removed]",
            "text/plain": [
              "<IPython.core.display.Image object>"
            ]
          },
          "metadata": {
            "image/png": {
              "width": 600,
              "height": 350
            }
          },
          "execution_count": 40
        }
      ]
    },
    {
      "cell_type": "markdown",
      "source": [
        "###PyTorch"
      ],
      "metadata": {
        "id": "69f9B6AmU4qZ"
      }
    },
    {
      "cell_type": "code",
      "source": [
        "# For this notebook to run with updated APIs, we need torch 1.12+ and torchvision 0.13+\n",
        "try:\n",
        "    import torch\n",
        "    import torchvision\n",
        "    assert int(torch.__version__.split(\".\")[1]) >= 12, \"torch version should be 1.12+\"\n",
        "    assert int(torchvision.__version__.split(\".\")[1]) >= 13, \"torchvision version should be 0.13+\"\n",
        "    print(f\"torch version: {torch.__version__}\")\n",
        "    print(f\"torchvision version: {torchvision.__version__}\")\n",
        "except:\n",
        "    print(f\"[INFO] torch/torchvision versions not as required, installing nightly versions.\")\n",
        "    !pip3 install -U torch torchvision torchaudio --extra-index-url https://download.pytorch.org/whl/cu113\n",
        "    import torch\n",
        "    import torchvision\n",
        "    print(f\"torch version: {torch.__version__}\")\n",
        "    print(f\"torchvision version: {torchvision.__version__}\")"
      ],
      "metadata": {
        "colab": {
          "base_uri": "https://localhost:8080/"
        },
        "id": "bExg7GChcVmN",
        "outputId": "abd895df-166d-4e85-c9f2-20bca351a6b9"
      },
      "execution_count": 41,
      "outputs": [
        {
          "output_type": "stream",
          "name": "stdout",
          "text": [
            "[INFO] torch/torchvision versions not as required, installing nightly versions.\n",
            "Looking in indexes: https://pypi.org/simple, https://us-python.pkg.dev/colab-wheels/public/simple/, https://download.pytorch.org/whl/cu113\n",
            "Requirement already satisfied: torch in /usr/local/lib/python3.10/dist-packages (2.0.1+cu118)\n",
            "Requirement already satisfied: torchvision in /usr/local/lib/python3.10/dist-packages (0.15.2+cu118)\n",
            "Requirement already satisfied: torchaudio in /usr/local/lib/python3.10/dist-packages (2.0.2+cu118)\n",
            "Requirement already satisfied: filelock in /usr/local/lib/python3.10/dist-packages (from torch) (3.12.0)\n",
            "Requirement already satisfied: typing-extensions in /usr/local/lib/python3.10/dist-packages (from torch) (4.5.0)\n",
            "Requirement already satisfied: sympy in /usr/local/lib/python3.10/dist-packages (from torch) (1.11.1)\n",
            "Requirement already satisfied: networkx in /usr/local/lib/python3.10/dist-packages (from torch) (3.1)\n",
            "Requirement already satisfied: jinja2 in /usr/local/lib/python3.10/dist-packages (from torch) (3.1.2)\n",
            "Requirement already satisfied: triton==2.0.0 in /usr/local/lib/python3.10/dist-packages (from torch) (2.0.0)\n",
            "Requirement already satisfied: cmake in /usr/local/lib/python3.10/dist-packages (from triton==2.0.0->torch) (3.25.2)\n",
            "Requirement already satisfied: lit in /usr/local/lib/python3.10/dist-packages (from triton==2.0.0->torch) (16.0.5)\n",
            "Requirement already satisfied: numpy in /usr/local/lib/python3.10/dist-packages (from torchvision) (1.22.4)\n",
            "Requirement already satisfied: requests in /usr/local/lib/python3.10/dist-packages (from torchvision) (2.27.1)\n",
            "Requirement already satisfied: pillow!=8.3.*,>=5.3.0 in /usr/local/lib/python3.10/dist-packages (from torchvision) (8.4.0)\n",
            "Requirement already satisfied: MarkupSafe>=2.0 in /usr/local/lib/python3.10/dist-packages (from jinja2->torch) (2.1.2)\n",
            "Requirement already satisfied: urllib3<1.27,>=1.21.1 in /usr/local/lib/python3.10/dist-packages (from requests->torchvision) (1.26.15)\n",
            "Requirement already satisfied: certifi>=2017.4.17 in /usr/local/lib/python3.10/dist-packages (from requests->torchvision) (2022.12.7)\n",
            "Requirement already satisfied: charset-normalizer~=2.0.0 in /usr/local/lib/python3.10/dist-packages (from requests->torchvision) (2.0.12)\n",
            "Requirement already satisfied: idna<4,>=2.5 in /usr/local/lib/python3.10/dist-packages (from requests->torchvision) (3.4)\n",
            "Requirement already satisfied: mpmath>=0.19 in /usr/local/lib/python3.10/dist-packages (from sympy->torch) (1.3.0)\n",
            "torch version: 2.0.1+cu118\n",
            "torchvision version: 0.15.2+cu118\n"
          ]
        }
      ]
    },
    {
      "cell_type": "code",
      "source": [
        "#Imports for Harvard PyTorch implementation\n",
        "import numpy as np\n",
        "import torch\n",
        "import torch.nn as nn\n",
        "import torch.nn.functional as F\n",
        "import math, copy, time\n",
        "from torch.autograd import Variable\n",
        "import matplotlib.pyplot as plt\n",
        "import seaborn\n",
        "seaborn.set_context(context=\"talk\")\n",
        "%matplotlib inline"
      ],
      "metadata": {
        "id": "KqckRldadbYR"
      },
      "execution_count": 42,
      "outputs": []
    },
    {
      "cell_type": "markdown",
      "source": [
        "####Patch embbeding"
      ],
      "metadata": {
        "id": "P0UX3AnVfnhy"
      }
    },
    {
      "cell_type": "code",
      "source": [
        "class PatchEmbedding(nn.Module):\n",
        "  \"\"\"This module is going to turn a 2D imagae into a 1D sequence vector that can be fed into the Encoder. It is the equivalent as the free-of-context embbeding\n",
        "     used to train the NLP transformers.\n",
        "     \n",
        "     Args: in_channels (int) Number of color channels for the input image. Default to 3.\n",
        "           patch_size (int) Size of the patches to convert the input image into. They are the equivalent to tokens. Defaulst to 16.\n",
        "           patch_embedding (int) Size of the embedding to turn the image into. Defaults to 768.\n",
        "  \"\"\"\n",
        "  def __init__(self, \n",
        "               in_channels:int=3,\n",
        "               patch_size:int=16,\n",
        "               size_embedding:int=768):\n",
        "      super().__init__()\n",
        "      self.patch_size=patch_size\n",
        "      \n",
        "      self.patcher=nn.Conv2d(in_channels=in_channels,\n",
        "                             out_channels=size_embedding,\n",
        "                             kernel_size=patch_size,\n",
        "                             stride=patch_size,\n",
        "                             padding=0\n",
        "                             )\n",
        "      # 4. Create a layer to flatten the patch feature maps into a single dimension\n",
        "      self.flatter = nn.Flatten(start_dim=2, # only flatten the feature map dimensions into a single vector\n",
        "                                end_dim=3\n",
        "                               )\n",
        "      \n",
        "  def forward(self, x):\n",
        "      # Create assertion to check that inputs are the correct shape\n",
        "      image_resolution = x.shape[-1]\n",
        "      assert image_resolution % self.patch_size == 0, f\"Input image size must be divisble by patch size, image shape: {image_resolution}, patch size: {self.patch_size}\"\n",
        "        \n",
        "      # Perform the forward pass\n",
        "      x_patched = self.patcher(x)\n",
        "      x_flattened = self.flatter(x_patched) \n",
        "      # Make sure the output shape has the right order \n",
        "      return x_flattened.permute(0, 2, 1) # adjust so the embedding is on the final dimension [batch_size, P^2•C, N] -> [batch_size, N, P^2•C]\n",
        "\n",
        "\n",
        "   "
      ],
      "metadata": {
        "id": "AznW2KkZftl_"
      },
      "execution_count": 43,
      "outputs": []
    },
    {
      "cell_type": "markdown",
      "source": [
        "####Transformer Enconder"
      ],
      "metadata": {
        "id": "KbXLwCf6bmZq"
      }
    },
    {
      "cell_type": "code",
      "source": [
        "class NormLayer(nn.Module):\n",
        "  def __init__(self,char,eps=1e-6):\n",
        "    super(NormLayer,self).__init__()\n",
        "    self.a=nn.Parameter(torch.ones(char))\n",
        "    self.b=nn.Parameter(torch.zeros(char))\n",
        "    self.eps=eps\n",
        "\n",
        "  def forward(self,x):\n",
        "    mean=x.mean(-1,keepdim=True)\n",
        "    std=x.std(-1,keepdim=True)\n",
        "    return self.a*(x-mean)/(std+self.eps)+self.b"
      ],
      "metadata": {
        "id": "1wLy_s-xc6Ha"
      },
      "execution_count": 44,
      "outputs": []
    },
    {
      "cell_type": "code",
      "source": [
        "class ResidualConnection(nn.Module):\n",
        "  \"\"\"\n",
        "  Una conexión residual seguida de una capa de normalización. \n",
        "  \"\"\"\n",
        "\n",
        "  def __init__(self, tamaño, dropout):\n",
        "    super(ResidualConnection,self).__init__()\n",
        "    self.norm=NormLayer(tamaño)\n",
        "    self.dropout=nn.Dropout(dropout)\n",
        "\n",
        "  def forward(self, x, subLayer):\n",
        "    \"Aplica conexion residual a cualquier sub capa con el mismo tamaño.\"\n",
        "    return x + self.dropout(subLayer(self.norm(x)))"
      ],
      "metadata": {
        "id": "H0tUlP6O7lrC"
      },
      "execution_count": 45,
      "outputs": []
    },
    {
      "cell_type": "code",
      "source": [
        "def attention(query, key, value, mask= None, dropout=None):\n",
        "  d_q=query.size(-1)\n",
        "  scores=torch.matmul(query,key.transpose(-2,-1)) / np.sqrt(d_q)\n",
        "  if mask is not None:\n",
        "    scores=scores.masked_fill(mask==0,-1e9)\n",
        "  p_attn=F.softmax(scores,dim=-1)\n",
        "  if dropout is not None:\n",
        "    p_attn=dropout(p_attn)\n",
        "  return torch.matmul(p_attn,value),p_attn\n",
        "\n",
        "\n",
        "  "
      ],
      "metadata": {
        "id": "oIHUytJyc53V"
      },
      "execution_count": 46,
      "outputs": []
    },
    {
      "cell_type": "markdown",
      "source": [
        "Say you want to apply attention from every token in the primary sequence to every token in a context sequence. Each of those tokens will have a d_model size representaiton of the token. So, to apply the attention mechanism I first create 4 nn.Linear(d_model,d_model) sized matrixes, that project the d_model original token_representations to another d_model sized vector. In the case of the query tokens, this vector will be a \"d_model\" sized \"query\", that will be split in h vector of dimension d_q (h being the number of heads). The same will be done with each of the token in the context sequence, only this time they will be projected and split into the key and value vectors. To prevent overfitting and better the model's efficiency, we will set this vectors to have d_q dimension. When attention is applied, each of the h d_q query vectors pays attention to each of the key and value vectors withing the respective head. Then, the resultant h vectors are concatenated, making a d_model sized vector and projected back to go on trhough the transformer model."
      ],
      "metadata": {
        "id": "ZgP3SbzyyGzf"
      }
    },
    {
      "cell_type": "code",
      "source": [
        "class MultiHeadedattention(nn.Module):\n",
        "  def __init__(self,h,d_model,dropout=0.1):\n",
        "    super(MultiHeadedattention,self).__init__()\n",
        "    assert d_model % h ==0 \n",
        "    self.d_k=d_model//h\n",
        "    self.h=h\n",
        "    self.linears=clones(nn.Linear(d_model,d_model),4)\n",
        "    self.attn=None\n",
        "    self.dropout=nn.Dropout(p=dropout)\n",
        "\n",
        "  def forward(self, primary, context, mask=None):\n",
        "    if mask is not None:\n",
        "      mask=mask.unsqueeze(1)\n",
        "    nbatches=primary.size(0)\n",
        "  # 1) hacer todas las proyecciones lineales en lotes desde d_model => h x d_k\n",
        "    query,key,value= [l(x).view(nbatches,-1,self.h, self.d_k).transpose(1,2) for l,x in zip(self.linears,(primary,context,context))]\n",
        "  # 2) Aplicar el mecanismod e atención en todos los vectores proyectdos por lotes.\n",
        "    x, self.attn=attention(query,key,value,mask=mask,dropout=self.dropout)\n",
        "  # 3) Concatenar utilizando un view y aplicar la capa lineal final.\n",
        "    x=x.transpose(1,2).contiguous().view(nbatches,-1,self.h*self.d_k)\n",
        "\n",
        "    return self.linears[-1](x)\n",
        "\n",
        "  \n"
      ],
      "metadata": {
        "id": "S-tKGKN3c5qi"
      },
      "execution_count": 47,
      "outputs": []
    },
    {
      "cell_type": "code",
      "source": [
        "class PositionwiseFeedForward(nn.Module):\n",
        "  def __init__(self,d_model,d_ff,dropout=0.1):\n",
        "    super(PositionwiseFeedForward,self).__init__()\n",
        "    self.w_1=nn.Linear(d_model,d_ff)\n",
        "    self.w_2=nn.Linear(d_ff,d_model)\n",
        "    self.dropout=nn.Dropout(dropout)\n",
        "\n",
        "  def forward(self,x):\n",
        "    return self.w_2(self.dropout(F.relu(self.w_1(x))))"
      ],
      "metadata": {
        "id": "ezFrBhIY7WQt"
      },
      "execution_count": 48,
      "outputs": []
    },
    {
      "cell_type": "code",
      "source": [
        "class EncoderLayer(nn.Module):\n",
        "  def __init__(self,tamaño,self_attn,PFF,dropout):\n",
        "    super(EncoderLayer,self).__init__()\n",
        "    self.self_attn=self_attn\n",
        "    self.PFF=PFF\n",
        "    self.subcapa=clones(ResidualConnection(tamaño,dropout),2)\n",
        "    self.tamaño=tamaño\n",
        "\n",
        "  def forward(self, x,mask):\n",
        "    x=self.subcapa[0](x,lambda x: self.self_attn(x,x,mask))\n",
        "    return self.subcapa[1](x, self.PFF)\n",
        "\n"
      ],
      "metadata": {
        "id": "YXpYL3uLbrCB"
      },
      "execution_count": 49,
      "outputs": []
    },
    {
      "cell_type": "code",
      "source": [
        "def clones(module,N):\n",
        "  \"\"\"\n",
        "  Produce N capas idénticas.\n",
        "  \"\"\"\n",
        "  return nn.ModuleList([copy.deepcopy(module) for _ in range(N)])"
      ],
      "metadata": {
        "id": "AHmF8wJ7bvtW"
      },
      "execution_count": 50,
      "outputs": []
    },
    {
      "cell_type": "code",
      "source": [
        "class Encoder(nn.Module):\n",
        "  \"\"\"\n",
        "  El núcleo del encoder es un stack de N capas\n",
        "  \"\"\"\n",
        "  def __init__(self,capa,N):\n",
        "    super(Encoder, self).__init__()\n",
        "    self.capas = clones(capa,N)\n",
        "    self.norm = NormLayer(capa.tamaño)\n",
        "\n",
        "  def forward(self,x,mask):\n",
        "    \"\"\"\n",
        "    Pasa el input (y máscara) a traves de cada capa en respuesta.\n",
        "    \"\"\"\n",
        "    for capa in self.capas:\n",
        "      x=capa(x,mask)\n",
        "    return self.norm(x)"
      ],
      "metadata": {
        "id": "dbmrzVlnbgTd"
      },
      "execution_count": 51,
      "outputs": []
    },
    {
      "cell_type": "code",
      "source": [
        "encoder=Encoder(EncoderLayer(768, copy.deepcopy(MultiHeadedattention(4, 768)), \n",
        "                                                    copy.deepcopy(PositionwiseFeedForward(768, 3012, 0.1)), \n",
        "                                                    0.005), \n",
        "                                       4)"
      ],
      "metadata": {
        "id": "1mDs3XieIk22"
      },
      "execution_count": 52,
      "outputs": []
    },
    {
      "cell_type": "code",
      "source": [
        "encoder"
      ],
      "metadata": {
        "colab": {
          "base_uri": "https://localhost:8080/"
        },
        "id": "Sibbl0dlKWCg",
        "outputId": "28603bfd-42ee-402e-e277-423e3ad2aca4"
      },
      "execution_count": 53,
      "outputs": [
        {
          "output_type": "execute_result",
          "data": {
            "text/plain": [
              "Encoder(\n",
              "  (capas): ModuleList(\n",
              "    (0-3): 4 x EncoderLayer(\n",
              "      (self_attn): MultiHeadedattention(\n",
              "        (linears): ModuleList(\n",
              "          (0-3): 4 x Linear(in_features=768, out_features=768, bias=True)\n",
              "        )\n",
              "        (dropout): Dropout(p=0.1, inplace=False)\n",
              "      )\n",
              "      (PFF): PositionwiseFeedForward(\n",
              "        (w_1): Linear(in_features=768, out_features=3012, bias=True)\n",
              "        (w_2): Linear(in_features=3012, out_features=768, bias=True)\n",
              "        (dropout): Dropout(p=0.1, inplace=False)\n",
              "      )\n",
              "      (subcapa): ModuleList(\n",
              "        (0-1): 2 x ResidualConnection(\n",
              "          (norm): NormLayer()\n",
              "          (dropout): Dropout(p=0.005, inplace=False)\n",
              "        )\n",
              "      )\n",
              "    )\n",
              "  )\n",
              "  (norm): NormLayer()\n",
              ")"
            ]
          },
          "metadata": {},
          "execution_count": 53
        }
      ]
    },
    {
      "cell_type": "markdown",
      "source": [
        "####ViT"
      ],
      "metadata": {
        "id": "MoNfIRSqe_D7"
      }
    },
    {
      "cell_type": "code",
      "source": [
        "\n",
        "class ViT(nn.Module): \n",
        "  def __init__(self,\n",
        "               img_size:int=224, # Training resolution from Table 3 in ViT paper\n",
        "               in_channels:int=3, # Number of channels in input image\n",
        "               patch_size:int=16, # Patch size\n",
        "               num_transformer_layers:int=12, # Layers from Table 1 for ViT-Base\n",
        "               embedding_dim:int=768, # Hidden size D from Table 1 for ViT-Base\n",
        "               mlp_size:int=3072, # MLP size from Table 1 for ViT-Base\n",
        "               num_heads:int=12, # Heads from Table 1 for ViT-Base\n",
        "               attn_dropout:float=0, # Dropout for attention projection\n",
        "               mlp_dropout:float=0.1, # Dropout for dense/MLP layers \n",
        "               embedding_dropout:float=0.1, # Dropout for patch and position embeddings\n",
        "               num_classes:int=1000):# Default for ImageNet but can customize this\n",
        "    super().__init__()\n",
        "\n",
        "    # Assert image size is divisible by patch size \n",
        "    assert img_size % patch_size == 0, \"Image size must be divisble by patch size.\"\n",
        "\n",
        "    # 1. Create patch embedding\n",
        "    self.patch_embedding = PatchEmbedding(in_channels=in_channels,\n",
        "                                          patch_size=patch_size,\n",
        "                                          size_embedding=embedding_dim)\n",
        "\n",
        "    # 2. Create class token\n",
        "    self.class_token = nn.Parameter(torch.randn(1, 1, embedding_dim),\n",
        "                                    requires_grad=True)\n",
        "\n",
        "    # 3. Create positional embedding\n",
        "    self.num_patches = (img_size * img_size) // patch_size**2 # N = HW/P^2\n",
        "    self.positional_embedding = nn.Parameter(torch.randn(1, self.num_patches+1, embedding_dim))\n",
        "\n",
        "    # 4. Create patch + position embedding dropout \n",
        "    self.embedding_dropout = nn.Dropout(p=embedding_dropout)\n",
        "\n",
        "    # 5. Create stack Transformer Encoder layers (stacked single layers)\n",
        "    self.transformer_encoder = Encoder(EncoderLayer(embedding_dim, copy.deepcopy(MultiHeadedattention(num_heads, embedding_dim)), \n",
        "                                                    copy.deepcopy(PositionwiseFeedForward(embedding_dim, mlp_size, mlp_dropout)), \n",
        "                                                    attn_dropout), \n",
        "                                       num_transformer_layers) \n",
        "\n",
        "    # 7. Create MLP head\n",
        "    self.mlp_head = nn.Sequential(\n",
        "        nn.LayerNorm(normalized_shape=embedding_dim),\n",
        "        nn.Linear(in_features=embedding_dim,\n",
        "                  out_features=num_classes)\n",
        "    )\n",
        "\n",
        "  def forward(self, x):\n",
        "    # Get some dimensions from x\n",
        "    batch_size = x.shape[0]\n",
        "\n",
        "    # Create the patch embedding\n",
        "    x = self.patch_embedding(x)\n",
        "    # print(x.shape)\n",
        "\n",
        "    # First, expand the class token across the batch size\n",
        "    class_token = self.class_token.expand(batch_size, -1, -1) # \"-1\" means infer the dimension\n",
        "\n",
        "    # Prepend the class token to the patch embedding\n",
        "    x = torch.cat((class_token, x), dim=1)\n",
        "    # print(x.shape)\n",
        "\n",
        "    # Add the positional embedding to patch embedding with class token\n",
        "    x = self.positional_embedding + x\n",
        "    # print(x.shape)\n",
        "\n",
        "    # Dropout on patch + positional embedding\n",
        "    x = self.embedding_dropout(x)\n",
        "\n",
        "    # Pass embedding through Transformer Encoder stack\n",
        "    x = self.transformer_encoder(x, mask=None)\n",
        "\n",
        "    # Pass 0th index of x through MLP head\n",
        "    x = self.mlp_head(x[:, 0])\n",
        "\n",
        "    return x"
      ],
      "metadata": {
        "id": "hofHZ-NVfMsZ"
      },
      "execution_count": 54,
      "outputs": []
    },
    {
      "cell_type": "code",
      "source": [
        "vit=ViT()"
      ],
      "metadata": {
        "id": "PVXPDUZQIILT"
      },
      "execution_count": 55,
      "outputs": []
    },
    {
      "cell_type": "markdown",
      "source": [
        "###Trainning on Colab"
      ],
      "metadata": {
        "id": "Kr6yXD7Twh7X"
      }
    },
    {
      "cell_type": "code",
      "source": [
        "device = \"cuda\" if torch.cuda.is_available() else \"cpu\"\n",
        "device"
      ],
      "metadata": {
        "colab": {
          "base_uri": "https://localhost:8080/",
          "height": 35
        },
        "id": "1aSoD2RBw1QJ",
        "outputId": "d878f57c-64a3-47be-b200-01d501d4317e"
      },
      "execution_count": 56,
      "outputs": [
        {
          "output_type": "execute_result",
          "data": {
            "text/plain": [
              "'cuda'"
            ],
            "application/vnd.google.colaboratory.intrinsic+json": {
              "type": "string"
            }
          },
          "metadata": {},
          "execution_count": 56
        }
      ]
    },
    {
      "cell_type": "markdown",
      "source": [
        "####Loading Dataset"
      ],
      "metadata": {
        "id": "HyGHLzHswn5R"
      }
    },
    {
      "cell_type": "code",
      "source": [
        "import requests\n",
        "import zipfile\n",
        "from pathlib import Path\n",
        "\n",
        "# Setup path to data folder\n",
        "data_path = Path(\"data/\")\n",
        "image_path = data_path / \"pizza_steak_sushi\"\n",
        "\n",
        "# If the image folder doesn't exist, download it and prepare it... \n",
        "if image_path.is_dir():\n",
        "    print(f\"{image_path} directory exists.\")\n",
        "else:\n",
        "    print(f\"Did not find {image_path} directory, creating one...\")\n",
        "    image_path.mkdir(parents=True, exist_ok=True)\n",
        "    \n",
        "    # Download pizza, steak, sushi data\n",
        "    with open(data_path / \"pizza_steak_sushi.zip\", \"wb\") as f:\n",
        "        request = requests.get(\"https://github.com/mrdbourke/pytorch-deep-learning/raw/main/data/pizza_steak_sushi.zip\")\n",
        "        print(\"Downloading pizza, steak, sushi data...\")\n",
        "        f.write(request.content)\n",
        "\n",
        "    # Unzip pizza, steak, sushi data\n",
        "    with zipfile.ZipFile(data_path / \"pizza_steak_sushi.zip\", \"r\") as zip_ref:\n",
        "        print(\"Unzipping pizza, steak, sushi data...\") \n",
        "        zip_ref.extractall(image_path)"
      ],
      "metadata": {
        "colab": {
          "base_uri": "https://localhost:8080/"
        },
        "id": "cDGGWlDPwnLi",
        "outputId": "78a58f6f-6fd6-4b71-a93f-2f953323c446"
      },
      "execution_count": 57,
      "outputs": [
        {
          "output_type": "stream",
          "name": "stdout",
          "text": [
            "data/pizza_steak_sushi directory exists.\n"
          ]
        }
      ]
    },
    {
      "cell_type": "markdown",
      "source": [
        "####Dataloaders"
      ],
      "metadata": {
        "id": "MnxQSmIE98VP"
      }
    },
    {
      "cell_type": "code",
      "source": [
        "import os\n",
        "from torch.utils.data import DataLoader\n",
        "from torchvision import datasets, transforms"
      ],
      "metadata": {
        "id": "rKZx2v80yx4g"
      },
      "execution_count": 58,
      "outputs": []
    },
    {
      "cell_type": "code",
      "source": [
        "NUM_WORKERS = os.cpu_count()\n",
        "\n",
        "def create_dataloaders(\n",
        "    train_dir: str, \n",
        "    test_dir: str, \n",
        "    transform: transforms.Compose, \n",
        "    batch_size: int, \n",
        "    num_workers: int=NUM_WORKERS\n",
        "):\n",
        "  \"\"\"Creates training and testing DataLoaders.\n",
        "\n",
        "  Takes in a training directory and testing directory path and turns\n",
        "  them into PyTorch Datasets and then into PyTorch DataLoaders.\n",
        "\n",
        "  Args:\n",
        "    train_dir: Path to training directory.\n",
        "    test_dir: Path to testing directory.\n",
        "    transform: torchvision transforms to perform on training and testing data.\n",
        "    batch_size: Number of samples per batch in each of the DataLoaders.\n",
        "    num_workers: An integer for number of workers per DataLoader.\n",
        "\n",
        "  Returns:\n",
        "    A tuple of (train_dataloader, test_dataloader, class_names).\n",
        "    Where class_names is a list of the target classes.\n",
        "    Example usage:\n",
        "      train_dataloader, test_dataloader, class_names = \\\n",
        "        = create_dataloaders(train_dir=path/to/train_dir,\n",
        "                             test_dir=path/to/test_dir,\n",
        "                             transform=some_transform,\n",
        "                             batch_size=32,\n",
        "                             num_workers=4)\n",
        "  \"\"\"\n",
        "  # Use ImageFolder to create dataset(s)\n",
        "  train_data = datasets.ImageFolder(train_dir, transform=transform)\n",
        "  test_data = datasets.ImageFolder(test_dir, transform=transform)\n",
        "\n",
        "  # Get class names\n",
        "  class_names = train_data.classes\n",
        "\n",
        "  # Turn images into data loaders\n",
        "  train_dataloader = DataLoader(\n",
        "      train_data,\n",
        "      batch_size=batch_size,\n",
        "      shuffle=True,\n",
        "      num_workers=num_workers,\n",
        "      pin_memory=True,\n",
        "  )\n",
        "  test_dataloader = DataLoader(\n",
        "      test_data,\n",
        "      batch_size=batch_size,\n",
        "      shuffle=True,\n",
        "      num_workers=num_workers,\n",
        "      pin_memory=True,\n",
        "  )\n",
        "\n",
        "  return train_dataloader, test_dataloader, class_names"
      ],
      "metadata": {
        "id": "cnkYrfZWzAll"
      },
      "execution_count": 59,
      "outputs": []
    },
    {
      "cell_type": "code",
      "source": [
        "# Setup directory paths to train and test images\n",
        "train_dir = image_path / \"train\"\n",
        "test_dir = image_path / \"test\""
      ],
      "metadata": {
        "id": "NqsTxcd59kN5"
      },
      "execution_count": 60,
      "outputs": []
    },
    {
      "cell_type": "code",
      "source": [
        "# Create image size (from Table 3 in the ViT paper) \n",
        "IMG_SIZE = 224\n",
        "\n",
        "# Create transform pipeline manually\n",
        "manual_transforms = transforms.Compose([\n",
        "    transforms.Resize((IMG_SIZE, IMG_SIZE)),\n",
        "    transforms.ToTensor(),\n",
        "])           \n",
        "print(f\"Manually created transforms: {manual_transforms}\")"
      ],
      "metadata": {
        "colab": {
          "base_uri": "https://localhost:8080/"
        },
        "id": "pen_ZahM9DTU",
        "outputId": "0118dd7f-a949-45e8-d0af-2f6da85fb5dc"
      },
      "execution_count": 61,
      "outputs": [
        {
          "output_type": "stream",
          "name": "stdout",
          "text": [
            "Manually created transforms: Compose(\n",
            "    Resize(size=(224, 224), interpolation=bilinear, max_size=None, antialias=warn)\n",
            "    ToTensor()\n",
            ")\n"
          ]
        }
      ]
    },
    {
      "cell_type": "code",
      "source": [
        "# Set the batch size\n",
        "BATCH_SIZE = 32 # this is lower than the ViT paper but it's because we're starting small\n",
        "\n",
        "# Create data loaders\n",
        "train_dataloader, test_dataloader, class_names = create_dataloaders(\n",
        "    train_dir=train_dir,\n",
        "    test_dir=test_dir,\n",
        "    transform=manual_transforms, # use manually created transforms\n",
        "    batch_size=BATCH_SIZE\n",
        ")\n",
        "\n",
        "train_dataloader, test_dataloader, class_names"
      ],
      "metadata": {
        "colab": {
          "base_uri": "https://localhost:8080/"
        },
        "id": "OdaF3LCD9TaM",
        "outputId": "cb922f79-9d64-45de-e83b-eb710e45e8fe"
      },
      "execution_count": 62,
      "outputs": [
        {
          "output_type": "execute_result",
          "data": {
            "text/plain": [
              "(<torch.utils.data.dataloader.DataLoader at 0x7f5618881f00>,\n",
              " <torch.utils.data.dataloader.DataLoader at 0x7f561888bdf0>,\n",
              " ['pizza', 'steak', 'sushi'])"
            ]
          },
          "metadata": {},
          "execution_count": 62
        }
      ]
    },
    {
      "cell_type": "markdown",
      "source": [
        "####Visualize a single image"
      ],
      "metadata": {
        "id": "eHgZpyFD91RP"
      }
    },
    {
      "cell_type": "code",
      "source": [
        "# Get a batch of images\n",
        "image_batch, label_batch = next(iter(train_dataloader))\n",
        "\n",
        "# Get a single image from the batch\n",
        "image, label = image_batch[0], label_batch[0]\n",
        "\n",
        "# View the batch shapes\n",
        "image.shape, label"
      ],
      "metadata": {
        "colab": {
          "base_uri": "https://localhost:8080/"
        },
        "id": "8ODaIcWe9tXE",
        "outputId": "ec0768cb-8149-4d13-b767-c6a018facc89"
      },
      "execution_count": 63,
      "outputs": [
        {
          "output_type": "execute_result",
          "data": {
            "text/plain": [
              "(torch.Size([3, 224, 224]), tensor(2))"
            ]
          },
          "metadata": {},
          "execution_count": 63
        }
      ]
    },
    {
      "cell_type": "code",
      "source": [
        "# Plot image with matplotlib\n",
        "plt.imshow(image.permute(1, 2, 0)) # rearrange image dimensions to suit matplotlib [color_channels, height, width] -> [height, width, color_channels]\n",
        "plt.title(class_names[label])\n",
        "plt.axis(False);"
      ],
      "metadata": {
        "colab": {
          "base_uri": "https://localhost:8080/",
          "height": 433
        },
        "id": "lIJMKjwA9xqU",
        "outputId": "cc36aeda-7ef0-4a56-bba9-ae9dedd17faf"
      },
      "execution_count": 64,
      "outputs": [
        {
          "output_type": "display_data",
          "data": {
            "text/plain": [
              "<Figure size 640x480 with 1 Axes>"
            ],
            "image/png": "[encoded data removed]"
          },
          "metadata": {}
        }
      ]
    },
    {
      "cell_type": "markdown",
      "source": [
        "####Try architecture on single image"
      ],
      "metadata": {
        "id": "buXcvLft-O9m"
      }
    },
    {
      "cell_type": "code",
      "source": [
        "# 1. Set patch size\n",
        "patch_size = 16\n",
        "\n",
        "# 2. Print shape of original image tensor and get the image dimensions\n",
        "print(f\"Image tensor shape: {image.shape}\")\n",
        "height, width = image.shape[1], image.shape[2]\n",
        "\n",
        "# 3. Get image tensor and add batch dimension\n",
        "x = image.unsqueeze(0)\n",
        "print(f\"Input image with batch dimension shape: {x.shape}\")\n",
        "\n",
        "# 4. Create patch embedding layer\n",
        "patch_embedding_layer = PatchEmbedding(in_channels=3,\n",
        "                                       patch_size=patch_size,\n",
        "                                       size_embedding=768)\n",
        "\n",
        "# 5. Pass image through patch embedding layer\n",
        "patch_embedding = patch_embedding_layer(x)\n",
        "print(f\"Patching embedding shape: {patch_embedding.shape}\")\n",
        "\n",
        "# 6. Create class token embedding\n",
        "batch_size = patch_embedding.shape[0]\n",
        "embedding_dimension = patch_embedding.shape[-1]\n",
        "class_token = nn.Parameter(torch.ones(batch_size, 1, embedding_dimension),\n",
        "                           requires_grad=True) # make sure it's learnable\n",
        "print(f\"Class token embedding shape: {class_token.shape}\")\n",
        "\n",
        "# 7. Prepend class token embedding to patch embedding\n",
        "patch_embedding_class_token = torch.cat((class_token, patch_embedding), dim=1)\n",
        "print(f\"Patch embedding with class token shape: {patch_embedding_class_token.shape}\")\n",
        "\n",
        "# 8. Create position embedding\n",
        "number_of_patches = int((height * width) / patch_size**2)\n",
        "position_embedding = nn.Parameter(torch.ones(1, number_of_patches+1, embedding_dimension),\n",
        "                                  requires_grad=True) # make sure it's learnable\n",
        "\n",
        "# 9. Add position embedding to patch embedding with class token\n",
        "patch_and_position_embedding = patch_embedding_class_token + position_embedding\n",
        "print(f\"Patch and position embedding shape: {patch_and_position_embedding.shape}\")"
      ],
      "metadata": {
        "colab": {
          "base_uri": "https://localhost:8080/"
        },
        "id": "l8q6XzkAGSSW",
        "outputId": "9986fe81-8469-42ce-a912-2737b1d9498f"
      },
      "execution_count": 65,
      "outputs": [
        {
          "output_type": "stream",
          "name": "stdout",
          "text": [
            "Image tensor shape: torch.Size([3, 224, 224])\n",
            "Input image with batch dimension shape: torch.Size([1, 3, 224, 224])\n",
            "Patching embedding shape: torch.Size([1, 196, 768])\n",
            "Class token embedding shape: torch.Size([1, 1, 768])\n",
            "Patch embedding with class token shape: torch.Size([1, 197, 768])\n",
            "Patch and position embedding shape: torch.Size([1, 197, 768])\n"
          ]
        }
      ]
    },
    {
      "cell_type": "code",
      "source": [
        "# Create a random tensor with same shape as a single image\n",
        "random_image_tensor = torch.randn(1, 3, 224, 224) # (batch_size, color_channels, height, width)\n",
        "\n",
        "# Create an instance of ViT with the number of classes we're working with (pizza, steak, sushi)\n",
        "vit = ViT(num_classes=len(class_names))\n",
        "\n",
        "# Pass the random image tensor to our ViT instance\n",
        "vit(random_image_tensor)"
      ],
      "metadata": {
        "colab": {
          "base_uri": "https://localhost:8080/"
        },
        "id": "NCz2OV-L_qtm",
        "outputId": "4bd810cd-e99f-42cf-f941-b7545bca3e5f"
      },
      "execution_count": 66,
      "outputs": [
        {
          "output_type": "execute_result",
          "data": {
            "text/plain": [
              "tensor([[ 0.7852, -0.0487, -0.7031]], grad_fn=<AddmmBackward0>)"
            ]
          },
          "metadata": {},
          "execution_count": 66
        }
      ]
    },
    {
      "cell_type": "code",
      "source": [
        "!pip install torchinfo"
      ],
      "metadata": {
        "colab": {
          "base_uri": "https://localhost:8080/"
        },
        "id": "C7a0G31XNcxu",
        "outputId": "83ae431d-bd89-461b-ce53-e90e47b980fd"
      },
      "execution_count": 67,
      "outputs": [
        {
          "output_type": "stream",
          "name": "stdout",
          "text": [
            "Looking in indexes: https://pypi.org/simple, https://us-python.pkg.dev/colab-wheels/public/simple/\n",
            "Requirement already satisfied: torchinfo in /usr/local/lib/python3.10/dist-packages (1.8.0)\n"
          ]
        }
      ]
    },
    {
      "cell_type": "code",
      "source": [
        "import torchinfo\n",
        "from torchinfo import summary\n",
        "\n",
        "# # Print a summary of our custom ViT model using torchinfo (uncomment for actual output)\n",
        "summary(model=vit, \n",
        "         input_size=(32, 3, 224, 224), # (batch_size, color_channels, height, width)\n",
        "         # col_names=[\"input_size\"], # uncomment for smaller output\n",
        "         col_names=[\"input_size\", \"output_size\", \"num_params\", \"trainable\"],\n",
        "         col_width=20,\n",
        "         row_settings=[\"var_names\"]\n",
        "         )"
      ],
      "metadata": {
        "colab": {
          "base_uri": "https://localhost:8080/"
        },
        "id": "y12Ej07W_XjW",
        "outputId": "c518760c-2a67-4e89-d2aa-a0ee89b58425"
      },
      "execution_count": 68,
      "outputs": [
        {
          "output_type": "execute_result",
          "data": {
            "text/plain": [
              "=======================================================================================================================================\n",
              "Layer (type (var_name))                                 Input Shape          Output Shape         Param #              Trainable\n",
              "=======================================================================================================================================\n",
              "ViT (ViT)                                               [32, 3, 224, 224]    [32, 3]              152,064              True\n",
              "├─PatchEmbedding (patch_embedding)                      [32, 3, 224, 224]    [32, 196, 768]       --                   True\n",
              "│    └─Conv2d (patcher)                                 [32, 3, 224, 224]    [32, 768, 14, 14]    590,592              True\n",
              "│    └─Flatten (flatter)                                [32, 768, 14, 14]    [32, 768, 196]       --                   --\n",
              "├─Dropout (embedding_dropout)                           [32, 197, 768]       [32, 197, 768]       --                   --\n",
              "├─Encoder (transformer_encoder)                         [32, 197, 768]       [32, 197, 768]       --                   True\n",
              "│    └─ModuleList (capas)                               --                   --                   --                   True\n",
              "│    │    └─EncoderLayer (0)                            [32, 197, 768]       [32, 197, 768]       7,087,872            True\n",
              "│    │    └─EncoderLayer (1)                            [32, 197, 768]       [32, 197, 768]       7,087,872            True\n",
              "│    │    └─EncoderLayer (2)                            [32, 197, 768]       [32, 197, 768]       7,087,872            True\n",
              "│    │    └─EncoderLayer (3)                            [32, 197, 768]       [32, 197, 768]       7,087,872            True\n",
              "│    │    └─EncoderLayer (4)                            [32, 197, 768]       [32, 197, 768]       7,087,872            True\n",
              "│    │    └─EncoderLayer (5)                            [32, 197, 768]       [32, 197, 768]       7,087,872            True\n",
              "│    │    └─EncoderLayer (6)                            [32, 197, 768]       [32, 197, 768]       7,087,872            True\n",
              "│    │    └─EncoderLayer (7)                            [32, 197, 768]       [32, 197, 768]       7,087,872            True\n",
              "│    │    └─EncoderLayer (8)                            [32, 197, 768]       [32, 197, 768]       7,087,872            True\n",
              "│    │    └─EncoderLayer (9)                            [32, 197, 768]       [32, 197, 768]       7,087,872            True\n",
              "│    │    └─EncoderLayer (10)                           [32, 197, 768]       [32, 197, 768]       7,087,872            True\n",
              "│    │    └─EncoderLayer (11)                           [32, 197, 768]       [32, 197, 768]       7,087,872            True\n",
              "│    └─NormLayer (norm)                                 [32, 197, 768]       [32, 197, 768]       1,536                True\n",
              "├─Sequential (mlp_head)                                 [32, 768]            [32, 3]              --                   True\n",
              "│    └─LayerNorm (0)                                    [32, 768]            [32, 768]            1,536                True\n",
              "│    └─Linear (1)                                       [32, 768]            [32, 3]              2,307                True\n",
              "=======================================================================================================================================\n",
              "Total params: 85,802,499\n",
              "Trainable params: 85,802,499\n",
              "Non-trainable params: 0\n",
              "Total mult-adds (G): 6.42\n",
              "=======================================================================================================================================\n",
              "Input size (MB): 19.27\n",
              "Forward/backward pass size (MB): 5190.06\n",
              "Params size (MB): 342.60\n",
              "Estimated Total Size (MB): 5551.93\n",
              "======================================================================================================================================="
            ]
          },
          "metadata": {},
          "execution_count": 68
        }
      ]
    },
    {
      "cell_type": "markdown",
      "source": [
        "####Create a trainning engine."
      ],
      "metadata": {
        "id": "cCZHWsglO313"
      }
    },
    {
      "cell_type": "code",
      "source": [
        "\"\"\"\n",
        "Contains functions for training and testing a PyTorch model.\n",
        "\"\"\"\n",
        "import torch\n",
        "\n",
        "from tqdm.auto import tqdm\n",
        "from typing import Dict, List, Tuple\n",
        "\n",
        "def train_step(model: torch.nn.Module, \n",
        "               dataloader: torch.utils.data.DataLoader, \n",
        "               loss_fn: torch.nn.Module, \n",
        "               optimizer: torch.optim.Optimizer,\n",
        "               device: torch.device) -> Tuple[float, float]:\n",
        "  \"\"\"Trains a PyTorch model for a single epoch.\n",
        "\n",
        "  Turns a target PyTorch model to training mode and then\n",
        "  runs through all of the required training steps (forward\n",
        "  pass, loss calculation, optimizer step).\n",
        "\n",
        "  Args:\n",
        "    model: A PyTorch model to be trained.\n",
        "    dataloader: A DataLoader instance for the model to be trained on.\n",
        "    loss_fn: A PyTorch loss function to minimize.\n",
        "    optimizer: A PyTorch optimizer to help minimize the loss function.\n",
        "    device: A target device to compute on (e.g. \"cuda\" or \"cpu\").\n",
        "\n",
        "  Returns:\n",
        "    A tuple of training loss and training accuracy metrics.\n",
        "    In the form (train_loss, train_accuracy). For example:\n",
        "\n",
        "    (0.1112, 0.8743)\n",
        "  \"\"\"\n",
        "  # Put model in train mode\n",
        "  model.train()\n",
        "\n",
        "  # Setup train loss and train accuracy values\n",
        "  train_loss, train_acc = 0, 0\n",
        "\n",
        "  # Loop through data loader data batches\n",
        "  for batch, (X, y) in enumerate(dataloader):\n",
        "      # Send data to target device\n",
        "      X, y = X.to(device), y.to(device)\n",
        "\n",
        "      # 1. Forward pass\n",
        "      y_pred = model(X)\n",
        "\n",
        "      # 2. Calculate  and accumulate loss\n",
        "      loss = loss_fn(y_pred, y)\n",
        "      train_loss += loss.item() \n",
        "\n",
        "      # 3. Optimizer zero grad\n",
        "      optimizer.zero_grad()\n",
        "\n",
        "      # 4. Loss backward\n",
        "      loss.backward()\n",
        "\n",
        "      # 5. Optimizer step\n",
        "      optimizer.step()\n",
        "\n",
        "      # Calculate and accumulate accuracy metric across all batches\n",
        "      y_pred_class = torch.argmax(torch.softmax(y_pred, dim=1), dim=1)\n",
        "      train_acc += (y_pred_class == y).sum().item()/len(y_pred)\n",
        "\n",
        "  # Adjust metrics to get average loss and accuracy per batch \n",
        "  train_loss = train_loss / len(dataloader)\n",
        "  train_acc = train_acc / len(dataloader)\n",
        "  return train_loss, train_acc\n",
        "\n",
        "def test_step(model: torch.nn.Module, \n",
        "              dataloader: torch.utils.data.DataLoader, \n",
        "              loss_fn: torch.nn.Module,\n",
        "              device: torch.device) -> Tuple[float, float]:\n",
        "  \"\"\"Tests a PyTorch model for a single epoch.\n",
        "\n",
        "  Turns a target PyTorch model to \"eval\" mode and then performs\n",
        "  a forward pass on a testing dataset.\n",
        "\n",
        "  Args:\n",
        "    model: A PyTorch model to be tested.\n",
        "    dataloader: A DataLoader instance for the model to be tested on.\n",
        "    loss_fn: A PyTorch loss function to calculate loss on the test data.\n",
        "    device: A target device to compute on (e.g. \"cuda\" or \"cpu\").\n",
        "\n",
        "  Returns:\n",
        "    A tuple of testing loss and testing accuracy metrics.\n",
        "    In the form (test_loss, test_accuracy). For example:\n",
        "\n",
        "    (0.0223, 0.8985)\n",
        "  \"\"\"\n",
        "  # Put model in eval mode\n",
        "  model.eval() \n",
        "\n",
        "  # Setup test loss and test accuracy values\n",
        "  test_loss, test_acc = 0, 0\n",
        "\n",
        "  # Turn on inference context manager\n",
        "  with torch.inference_mode():\n",
        "      # Loop through DataLoader batches\n",
        "      for batch, (X, y) in enumerate(dataloader):\n",
        "          # Send data to target device\n",
        "          X, y = X.to(device), y.to(device)\n",
        "\n",
        "          # 1. Forward pass\n",
        "          test_pred_logits = model(X)\n",
        "\n",
        "          # 2. Calculate and accumulate loss\n",
        "          loss = loss_fn(test_pred_logits, y)\n",
        "          test_loss += loss.item()\n",
        "\n",
        "          # Calculate and accumulate accuracy\n",
        "          test_pred_labels = test_pred_logits.argmax(dim=1)\n",
        "          test_acc += ((test_pred_labels == y).sum().item()/len(test_pred_labels))\n",
        "\n",
        "  # Adjust metrics to get average loss and accuracy per batch \n",
        "  test_loss = test_loss / len(dataloader)\n",
        "  test_acc = test_acc / len(dataloader)\n",
        "  return test_loss, test_acc\n",
        "\n",
        "def train(model: torch.nn.Module, \n",
        "          train_dataloader: torch.utils.data.DataLoader, \n",
        "          test_dataloader: torch.utils.data.DataLoader, \n",
        "          optimizer: torch.optim.Optimizer,\n",
        "          loss_fn: torch.nn.Module,\n",
        "          epochs: int,\n",
        "          device: torch.device) -> Dict[str, List]:\n",
        "  \"\"\"Trains and tests a PyTorch model.\n",
        "\n",
        "  Passes a target PyTorch models through train_step() and test_step()\n",
        "  functions for a number of epochs, training and testing the model\n",
        "  in the same epoch loop.\n",
        "\n",
        "  Calculates, prints and stores evaluation metrics throughout.\n",
        "\n",
        "  Args:\n",
        "    model: A PyTorch model to be trained and tested.\n",
        "    train_dataloader: A DataLoader instance for the model to be trained on.\n",
        "    test_dataloader: A DataLoader instance for the model to be tested on.\n",
        "    optimizer: A PyTorch optimizer to help minimize the loss function.\n",
        "    loss_fn: A PyTorch loss function to calculate loss on both datasets.\n",
        "    epochs: An integer indicating how many epochs to train for.\n",
        "    device: A target device to compute on (e.g. \"cuda\" or \"cpu\").\n",
        "\n",
        "  Returns:\n",
        "    A dictionary of training and testing loss as well as training and\n",
        "    testing accuracy metrics. Each metric has a value in a list for \n",
        "    each epoch.\n",
        "    In the form: {train_loss: [...],\n",
        "                  train_acc: [...],\n",
        "                  test_loss: [...],\n",
        "                  test_acc: [...]} \n",
        "    For example if training for epochs=2: \n",
        "                 {train_loss: [2.0616, 1.0537],\n",
        "                  train_acc: [0.3945, 0.3945],\n",
        "                  test_loss: [1.2641, 1.5706],\n",
        "                  test_acc: [0.3400, 0.2973]} \n",
        "  \"\"\"\n",
        "  # Create empty results dictionary\n",
        "  results = {\"train_loss\": [],\n",
        "      \"train_acc\": [],\n",
        "      \"test_loss\": [],\n",
        "      \"test_acc\": []\n",
        "  }\n",
        "\n",
        "  # Loop through training and testing steps for a number of epochs\n",
        "  for epoch in tqdm(range(epochs)):\n",
        "      train_loss, train_acc = train_step(model=model,\n",
        "                                          dataloader=train_dataloader,\n",
        "                                          loss_fn=loss_fn,\n",
        "                                          optimizer=optimizer,\n",
        "                                          device=device)\n",
        "      test_loss, test_acc = test_step(model=model,\n",
        "          dataloader=test_dataloader,\n",
        "          loss_fn=loss_fn,\n",
        "          device=device)\n",
        "\n",
        "      # Print out what's happening\n",
        "      print(\n",
        "          f\"Epoch: {epoch+1} | \"\n",
        "          f\"train_loss: {train_loss:.4f} | \"\n",
        "          f\"train_acc: {train_acc:.4f} | \"\n",
        "          f\"test_loss: {test_loss:.4f} | \"\n",
        "          f\"test_acc: {test_acc:.4f}\"\n",
        "      )\n",
        "\n",
        "      # Update results dictionary\n",
        "      results[\"train_loss\"].append(train_loss)\n",
        "      results[\"train_acc\"].append(train_acc)\n",
        "      results[\"test_loss\"].append(test_loss)\n",
        "      results[\"test_acc\"].append(test_acc)\n",
        "\n",
        "  # Return the filled results at the end of the epochs\n",
        "  return results"
      ],
      "metadata": {
        "id": "v4XOKw-hfAdi"
      },
      "execution_count": 69,
      "outputs": []
    },
    {
      "cell_type": "markdown",
      "source": [
        "####Train the model"
      ],
      "metadata": {
        "id": "3iK02nxYfUIt"
      }
    },
    {
      "cell_type": "markdown",
      "source": [
        "\"Training & Fine-tuning. We train all models, including ResNets, using Adam (Kingma & Ba, 2015 ) with \n",
        "β\n",
        "1\n",
        "=\n",
        "0.9\n",
        ",\n",
        "β\n",
        "2\n",
        "=\n",
        "0.999\n",
        ", a batch size of 4096 and apply a high weight decay of \n",
        "0.1\n",
        ", which we found to be useful for transfer of all models (Appendix D.1 shows that, in contrast to common practices, Adam works slightly better than SGD for ResNets in our setting).\" "
      ],
      "metadata": {
        "id": "84mC1Se5fXMg"
      }
    },
    {
      "cell_type": "code",
      "source": [
        "# Setup the optimizer to optimize our ViT model parameters using hyperparameters from the ViT paper \n",
        "optimizer = torch.optim.Adam(params=vit.parameters(), \n",
        "                             lr=3e-3, # Base LR from Table 3 for ViT-* ImageNet-1k\n",
        "                             betas=(0.9, 0.999), # default values but also mentioned in ViT paper section 4.1 (Training & Fine-tuning)\n",
        "                             weight_decay=0.3) # from the ViT paper section 4.1 (Training & Fine-tuning) and Table 3 for ViT-* ImageNet-1k\n",
        "\n",
        "# Setup the loss function for multi-class classification\n",
        "loss_fn = torch.nn.CrossEntropyLoss()\n",
        "\n",
        "# Train the model and save the training results to a dictionary\n",
        "results = train(model=vit,\n",
        "                       train_dataloader=train_dataloader,\n",
        "                       test_dataloader=test_dataloader,\n",
        "                       optimizer=optimizer,\n",
        "                       loss_fn=loss_fn,\n",
        "                       epochs=10,\n",
        "                       device=device)"
      ],
      "metadata": {
        "colab": {
          "base_uri": "https://localhost:8080/",
          "height": 223,
          "referenced_widgets": [
            "e03bacd9f8b64adc8c9fc83259984571",
            "6d5b28ccae3542f69025dcba13c351c2",
            "38d26291bd8b43f99ea2a39397d5420e",
            "dab06a376fb64a1195c68627ce6725fb",
            "dc99db747e914fec801aadc6e9aecfb9",
            "b2583116d1e04bd8948a502bddbf9252",
            "6d1a34f77bf24125a89567ed7cce4e3f",
            "4e3f8528471341f5b8419788d2fc480c",
            "844052d637a947a3b8a5eb3efeac6d99",
            "21aad05056504c7588aabc6fc441215b",
            "873869a2521d4be9a7d6c5f1b867f28f"
          ]
        },
        "id": "BEm4_ZyHO_jA",
        "outputId": "ba87a0ec-d6e7-45ca-e911-3b784dc5212e"
      },
      "execution_count": 36,
      "outputs": [
        {
          "output_type": "display_data",
          "data": {
            "text/plain": [
              "  0%|          | 0/10 [00:00<?, ?it/s]"
            ],
            "application/vnd.jupyter.widget-view+json": {
              "version_major": 2,
              "version_minor": 0,
              "model_id": "e03bacd9f8b64adc8c9fc83259984571"
            }
          },
          "metadata": {}
        },
        {
          "output_type": "stream",
          "name": "stdout",
          "text": [
            "Epoch: 1 | train_loss: 2.9154 | train_acc: 0.3047 | test_loss: 3.6929 | test_acc: 0.2775\n",
            "Epoch: 2 | train_loss: 1.9156 | train_acc: 0.3125 | test_loss: 1.4061 | test_acc: 0.2178\n",
            "Epoch: 3 | train_loss: 1.2005 | train_acc: 0.2852 | test_loss: 1.8422 | test_acc: 0.3826\n",
            "Epoch: 4 | train_loss: 1.2146 | train_acc: 0.3906 | test_loss: 1.3705 | test_acc: 0.3428\n",
            "Epoch: 5 | train_loss: 1.2171 | train_acc: 0.2734 | test_loss: 1.1303 | test_acc: 0.3400\n",
            "Epoch: 6 | train_loss: 1.1433 | train_acc: 0.2734 | test_loss: 1.2013 | test_acc: 0.3400\n",
            "Epoch: 7 | train_loss: 1.1508 | train_acc: 0.2812 | test_loss: 1.1278 | test_acc: 0.4025\n",
            "Epoch: 8 | train_loss: 1.2340 | train_acc: 0.2852 | test_loss: 1.1106 | test_acc: 0.3002\n",
            "Epoch: 9 | train_loss: 1.1173 | train_acc: 0.3945 | test_loss: 1.2474 | test_acc: 0.2576\n",
            "Epoch: 10 | train_loss: 1.2072 | train_acc: 0.2891 | test_loss: 1.1146 | test_acc: 0.2178\n"
          ]
        }
      ]
    },
    {
      "cell_type": "markdown",
      "source": [
        "Alright! The transformer is working. Obviusly the resutls are not great, after all, the trainning was done in a relatively small dataset using a basic trainning scheme. ViT transformers achieved some Sota results but with huge datasets and far more complicated trainning scheme. But the good news is the architecture is correct!"
      ],
      "metadata": {
        "id": "GNJldqINgy0X"
      }
    },
    {
      "cell_type": "markdown",
      "source": [
        "###Transfer learning"
      ],
      "metadata": {
        "id": "YqZFW0H-UAax"
      }
    },
    {
      "cell_type": "markdown",
      "source": [
        "Just like working with CNNs, the most common way of applying ViTs in real world scenarios is applying an already pretrained model and altering the last layer to the specific classfication task.  "
      ],
      "metadata": {
        "id": "R6nmLbtnUECI"
      }
    },
    {
      "cell_type": "markdown",
      "source": [
        "####Why using a pretrainned model?"
      ],
      "metadata": {
        "id": "mKZnxX1FVB2Q"
      }
    },
    {
      "cell_type": "markdown",
      "source": [
        "\"Finally, the ViT-L/16 model pre-trained on the public ImageNet-21k dataset performs well on most datasets too, while taking fewer resources to pre-train: it could be trained using a standard cloud TPUv3 with 8 cores in approximately 30 days.\"\n",
        "\n",
        "As of July 2022, the price for renting a TPUv3 (Tensor Processing Unit version 3) with 8 cores on Google Cloud is $8 USD per hour.\n",
        "\n",
        "To rent one for 30 straight days would cost $5,760 USD. \n",
        "\n",
        "This cost alone may be a reason to use an already pretrained model. But in our case, where our metrics are so weak and our dataset so small, we may also exprience the benefits of transffer learning in the quality of our results."
      ],
      "metadata": {
        "id": "Nz_gJ9DVVFwe"
      }
    },
    {
      "cell_type": "markdown",
      "source": [
        "####Getting the model"
      ],
      "metadata": {
        "id": "Koh5qa9iFyWo"
      }
    },
    {
      "cell_type": "markdown",
      "source": [
        "There are a couple of pretrained ViT models out there, for now, Ill stick to one available at torchvision."
      ],
      "metadata": {
        "id": "ObmmMnE5GAVK"
      }
    },
    {
      "cell_type": "code",
      "source": [
        "# The following requires torch v0.12+ and torchvision v0.13+\n",
        "import torch\n",
        "import torchvision\n",
        "print(torch.__version__) \n",
        "print(torchvision.__version__)"
      ],
      "metadata": {
        "colab": {
          "base_uri": "https://localhost:8080/"
        },
        "id": "P21uZWgiGL_7",
        "outputId": "350ffe10-beb1-4ceb-c420-47a15ad5afc1"
      },
      "execution_count": 37,
      "outputs": [
        {
          "output_type": "stream",
          "name": "stdout",
          "text": [
            "2.0.1+cu118\n",
            "0.15.2+cu118\n"
          ]
        }
      ]
    },
    {
      "cell_type": "code",
      "source": [
        "device = \"cuda\" if torch.cuda.is_available() else \"cpu\"\n",
        "device"
      ],
      "metadata": {
        "colab": {
          "base_uri": "https://localhost:8080/",
          "height": 35
        },
        "id": "rvg8FZThGPr_",
        "outputId": "ea64bd75-0afd-4b9e-84be-cda82e9f3245"
      },
      "execution_count": 38,
      "outputs": [
        {
          "output_type": "execute_result",
          "data": {
            "text/plain": [
              "'cuda'"
            ],
            "application/vnd.google.colaboratory.intrinsic+json": {
              "type": "string"
            }
          },
          "metadata": {},
          "execution_count": 38
        }
      ]
    },
    {
      "cell_type": "code",
      "source": [
        "# 1. Get pretrained weights for ViT-Base\n",
        "pretrained_vit_weights = torchvision.models.ViT_B_16_Weights.DEFAULT # requires torchvision >= 0.13, \"DEFAULT\" means best available\n",
        "\n",
        "# 2. Setup a ViT model instance with pretrained weights\n",
        "pretrained_vit = torchvision.models.vit_b_16(weights=pretrained_vit_weights).to(device)\n",
        "\n",
        "# 3. Freeze the base parameters\n",
        "for parameter in pretrained_vit.parameters():\n",
        "    parameter.requires_grad = False\n",
        "    \n",
        "# 4. Change the classifier head (set the seeds to ensure same initialization with linear head)\n",
        "pretrained_vit.heads = nn.Linear(in_features=768, out_features=len(class_names)).to(device)\n",
        "#pretrained_vit # uncomment for model output "
      ],
      "metadata": {
        "id": "zgWDPC3nGZi0"
      },
      "execution_count": 70,
      "outputs": []
    },
    {
      "cell_type": "markdown",
      "source": [
        "####Train the tranfered model."
      ],
      "metadata": {
        "id": "1juqbrLmJmXG"
      }
    },
    {
      "cell_type": "markdown",
      "source": [
        "I already have the DataLoaders and just like with the original trainning, I will use Adam optimizer with a learning rate of 1e-3 and the Cross Entropy as the loss function."
      ],
      "metadata": {
        "id": "2erw2J8iJwQS"
      }
    },
    {
      "cell_type": "code",
      "source": [
        "\n",
        "# Create optimizer and loss function\n",
        "optimizer = torch.optim.Adam(params=pretrained_vit.parameters(), \n",
        "                             lr=1e-3)\n",
        "loss_fn = torch.nn.CrossEntropyLoss()\n",
        "\n",
        "# Train the classifier head of the pretrained ViT feature extractor model\n",
        "pretrained_vit_results = train(model=pretrained_vit,\n",
        "                                      train_dataloader=train_dataloader,\n",
        "                                      test_dataloader=test_dataloader,\n",
        "                                      optimizer=optimizer,\n",
        "                                      loss_fn=loss_fn,\n",
        "                                      epochs=10,\n",
        "                                      device=device)"
      ],
      "metadata": {
        "colab": {
          "base_uri": "https://localhost:8080/",
          "height": 223,
          "referenced_widgets": [
            "30ec4b2b43f14459950531a2562bd74f",
            "3d0e3564a77444738138e92342f35982",
            "997ca63a595745f2b97e25a3e220f8b0",
            "03067a126b19469f8d254df24a8b7e92",
            "59e55bfa2f3d4899932d4b610b0379de",
            "c5a80dc614db4287863d8e1debbe1570",
            "e889d30e77904658a3473aca570e63ea",
            "1873b3dd6436480e8d003fa66e51925e",
            "e8045b5ecfa24c64ad9fb2037e114d0c",
            "146513a84e064a1d92c0b436b1fdaa25",
            "52064c1b3d024bc4b35745066d37c145"
          ]
        },
        "id": "zpyO8noNJkzB",
        "outputId": "c21f1d8a-0663-493b-b304-baa0dc972c04"
      },
      "execution_count": 72,
      "outputs": [
        {
          "output_type": "display_data",
          "data": {
            "text/plain": [
              "  0%|          | 0/10 [00:00<?, ?it/s]"
            ],
            "application/vnd.jupyter.widget-view+json": {
              "version_major": 2,
              "version_minor": 0,
              "model_id": "30ec4b2b43f14459950531a2562bd74f"
            }
          },
          "metadata": {}
        },
        {
          "output_type": "stream",
          "name": "stdout",
          "text": [
            "Epoch: 1 | train_loss: 0.8771 | train_acc: 0.6094 | test_loss: 0.6664 | test_acc: 0.8049\n",
            "Epoch: 2 | train_loss: 0.4568 | train_acc: 0.8906 | test_loss: 0.4173 | test_acc: 0.8466\n",
            "Epoch: 3 | train_loss: 0.3752 | train_acc: 0.9453 | test_loss: 0.2771 | test_acc: 0.9167\n",
            "Epoch: 4 | train_loss: 0.2484 | train_acc: 0.9336 | test_loss: 0.3114 | test_acc: 0.9062\n",
            "Epoch: 5 | train_loss: 0.2537 | train_acc: 0.9492 | test_loss: 0.2823 | test_acc: 0.8873\n",
            "Epoch: 6 | train_loss: 0.1924 | train_acc: 0.9531 | test_loss: 0.2541 | test_acc: 0.9072\n",
            "Epoch: 7 | train_loss: 0.1731 | train_acc: 0.9492 | test_loss: 0.2351 | test_acc: 0.9072\n",
            "Epoch: 8 | train_loss: 0.1561 | train_acc: 0.9688 | test_loss: 0.2042 | test_acc: 0.9271\n",
            "Epoch: 9 | train_loss: 0.1405 | train_acc: 0.9609 | test_loss: 0.1979 | test_acc: 0.9271\n",
            "Epoch: 10 | train_loss: 0.1286 | train_acc: 0.9609 | test_loss: 0.2170 | test_acc: 0.9072\n"
          ]
        }
      ]
    },
    {
      "cell_type": "markdown",
      "source": [
        "Well, that is much better than the tranformer I trained in the first section! Great!"
      ],
      "metadata": {
        "id": "n861_yUxKzs9"
      }
    },
    {
      "cell_type": "code",
      "source": [],
      "metadata": {
        "id": "sVLgp-UkJiLK"
      },
      "execution_count": null,
      "outputs": []
    },
    {
      "cell_type": "markdown",
      "source": [
        "###TensorFlow"
      ],
      "metadata": {
        "id": "aykA32jvU8WQ"
      }
    },
    {
      "cell_type": "markdown",
      "source": [
        "## Trainning"
      ],
      "metadata": {
        "id": "eGoeNiAwUye3"
      }
    },
    {
      "cell_type": "markdown",
      "source": [
        "###AWS"
      ],
      "metadata": {
        "id": "iTXYUR0dVBZB"
      }
    },
    {
      "cell_type": "markdown",
      "source": [
        "###Google CLoud"
      ],
      "metadata": {
        "id": "hoklqSSrVEs4"
      }
    }
  ]
}