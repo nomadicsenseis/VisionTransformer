{
  "nbformat": 4,
  "nbformat_minor": 0,
  "metadata": {
    "colab": {
      "provenance": [],
      "authorship_tag": "ABX9TyMXt6543valwuOsXsQxakfG",
      "include_colab_link": true
    },
    "kernelspec": {
      "name": "python3",
      "display_name": "Python 3"
    },
    "language_info": {
      "name": "python"
    }
  },
  "cells": [
    {
      "cell_type": "markdown",
      "metadata": {
        "id": "view-in-github",
        "colab_type": "text"
      },
      "source": [
        "<a href=\"https://colab.research.google.com/github/nomadicsenseis/VisionTransformer/blob/main/VisionTransformer.ipynb\" target=\"_parent\"><img src=\"https://colab.research.google.com/assets/colab-badge.svg\" alt=\"Open In Colab\"/></a>"
      ]
    },
    {
      "cell_type": "markdown",
      "source": [
        "#Vision Transformer"
      ],
      "metadata": {
        "id": "YshkB1Q6UbFU"
      }
    },
    {
      "cell_type": "markdown",
      "source": [
        "As I commented on my repo https://github.com/nomadicsenseis/annoted-transformer, since their first appearenace in 2017 Transformers have taken oer the NLP world. But they were not done yet. Afer some attempts of deploying them in tandem with CNNs, DeepMind (search paper) finally published a paper where they implemented them directly on the task of Computer Vision. In this work I aim to recreate what they did on that paper.\n",
        "\n",
        "As for the actual frameworks, I will go for PyTorch and AWS, more specifically I will train on a Trainnium instance using the Hugging Face's base image and the Neuron SDK; and for TensorFlow Extended (the distribute library) to train the model on a TPU in the GCP."
      ],
      "metadata": {
        "id": "7uV6m1hhWChK"
      }
    },
    {
      "cell_type": "markdown",
      "source": [
        "##Architecture"
      ],
      "metadata": {
        "id": "IoBLJWmkUuZa"
      }
    },
    {
      "cell_type": "markdown",
      "source": [
        "###PyTorch"
      ],
      "metadata": {
        "id": "69f9B6AmU4qZ"
      }
    },
    {
      "cell_type": "markdown",
      "source": [
        "###TensorFlow"
      ],
      "metadata": {
        "id": "aykA32jvU8WQ"
      }
    },
    {
      "cell_type": "markdown",
      "source": [
        "## Trainning"
      ],
      "metadata": {
        "id": "eGoeNiAwUye3"
      }
    },
    {
      "cell_type": "markdown",
      "source": [
        "###AWS"
      ],
      "metadata": {
        "id": "iTXYUR0dVBZB"
      }
    },
    {
      "cell_type": "markdown",
      "source": [
        "###Google CLoud"
      ],
      "metadata": {
        "id": "hoklqSSrVEs4"
      }
    }
  ]
}